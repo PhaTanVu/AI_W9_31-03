{
  "nbformat": 4,
  "nbformat_minor": 0,
  "metadata": {
    "colab": {
      "provenance": [],
      "authorship_tag": "ABX9TyP1YPNFo90pkZ26toHVEnRI",
      "include_colab_link": true
    },
    "kernelspec": {
      "name": "python3",
      "display_name": "Python 3"
    },
    "language_info": {
      "name": "python"
    }
  },
  "cells": [
    {
      "cell_type": "markdown",
      "metadata": {
        "id": "view-in-github",
        "colab_type": "text"
      },
      "source": [
        "<a href=\"https://colab.research.google.com/github/PhaTanVu/AI_W9_31-03/blob/main/Week9(mnist).ipynb\" target=\"_parent\"><img src=\"https://colab.research.google.com/assets/colab-badge.svg\" alt=\"Open In Colab\"/></a>"
      ]
    },
    {
      "cell_type": "code",
      "execution_count": 1,
      "metadata": {
        "colab": {
          "base_uri": "https://localhost:8080/"
        },
        "id": "-bBHHTB1DpaB",
        "outputId": "57cb4965-f31c-4224-8abd-480e5691b0cd"
      },
      "outputs": [
        {
          "output_type": "stream",
          "name": "stdout",
          "text": [
            "Downloading data from https://storage.googleapis.com/tensorflow/tf-keras-datasets/mnist.npz\n",
            "11490434/11490434 [==============================] - 1s 0us/step\n"
          ]
        }
      ],
      "source": [
        "from keras.datasets import mnist\n",
        "import matplotlib.pyplot as plt\n",
        "import numpy as np\n",
        "from keras.models import Sequential\n",
        "from keras.layers import Dense\n",
        "from keras.utils import to_categorical\n",
        "(train_image,train_label),(test_image,test_label)=mnist.load_data()"
      ]
    },
    {
      "cell_type": "code",
      "source": [
        "train_image.shape\n",
        "train_label.shape"
      ],
      "metadata": {
        "colab": {
          "base_uri": "https://localhost:8080/"
        },
        "id": "1ziWYm1nDyvJ",
        "outputId": "3315954c-96b4-486e-cb3e-52b10f6cb73b"
      },
      "execution_count": 2,
      "outputs": [
        {
          "output_type": "execute_result",
          "data": {
            "text/plain": [
              "(60000,)"
            ]
          },
          "metadata": {},
          "execution_count": 2
        }
      ]
    },
    {
      "cell_type": "code",
      "source": [
        "# load the mnist dataset\n",
        "(train_images, train_labels), (test_images, test_labels) = mnist.load_data()\n",
        "\n",
        "# display an image from the dataset\n",
        "hinh = train_images[100]\n",
        "plt.imshow(hinh, cmap=plt.cm.binary)\n",
        "plt.show()\n",
        "print('Số này là:', train_labels[100])"
      ],
      "metadata": {
        "colab": {
          "base_uri": "https://localhost:8080/",
          "height": 447
        },
        "id": "oZusz_5ED3Pm",
        "outputId": "726a7ef5-317d-431f-a409-cacb640301a8"
      },
      "execution_count": 3,
      "outputs": [
        {
          "output_type": "display_data",
          "data": {
            "text/plain": [
              "<Figure size 640x480 with 1 Axes>"
            ],
            "image/png": "[encoded data removed]"
          },
          "metadata": {}
        },
        {
          "output_type": "stream",
          "name": "stdout",
          "text": [
            "Số này là: 5\n"
          ]
        }
      ]
    },
    {
      "cell_type": "code",
      "source": [
        "for i in range(15):\n",
        "  plt.subplot(3,5,i+1)\n",
        "  plt.tight_layout()\n",
        "  plt.imshow(train_image[i], cmap = 'gray', interpolation = 'none')\n",
        "  plt.title('So:{}'.format(train_label[i]))\n",
        "  plt.xticks([])\n",
        "  plt.yticks([])"
      ],
      "metadata": {
        "colab": {
          "base_uri": "https://localhost:8080/",
          "height": 480
        },
        "id": "S79Pj_hJD338",
        "outputId": "ac4e53d4-3e0e-450b-eed8-8c2410631bf2"
      },
      "execution_count": 4,
      "outputs": [
        {
          "output_type": "stream",
          "name": "stderr",
          "text": [
            "<ipython-input-4-a5bd8d49e5c4>:2: MatplotlibDeprecationWarning: Auto-removal of overlapping axes is deprecated since 3.6 and will be removed two minor releases later; explicitly call ax.remove() as needed.\n",
            "  plt.subplot(3,5,i+1)\n"
          ]
        },
        {
          "output_type": "display_data",
          "data": {
            "text/plain": [
              "<Figure size 640x480 with 14 Axes>"
            ],
            "image/png": "[encoded data removed]"
          },
          "metadata": {}
        }
      ]
    },
    {
      "cell_type": "code",
      "source": [
        "(train_images, train_labels), (test_images, test_labels) = mnist.load_data()\n",
        "print(train_images.shape) #một mảng có 3 chiều, với chiều đầu tiên là 60000 (số lượng hình ảnh), chiều thứ hai và thứ ba lần lượt là 28x28 (kích thước của hình ảnh).\n",
        "print(test_images.shape) #một mảng có 3 chiều, với chiều đầu tiên là 10000 (số lượng hình ảnh), chiều thứ hai và thứ ba lần lượt là 28x28 (kích thước của hình ảnh)."
      ],
      "metadata": {
        "colab": {
          "base_uri": "https://localhost:8080/"
        },
        "id": "ubBbIVF9EBFL",
        "outputId": "efb4282d-08d7-4003-c2a0-90a6878929d5"
      },
      "execution_count": 5,
      "outputs": [
        {
          "output_type": "stream",
          "name": "stdout",
          "text": [
            "(60000, 28, 28)\n",
            "(10000, 28, 28)\n"
          ]
        }
      ]
    },
    {
      "cell_type": "code",
      "source": [
        "#Tao mo hinh\n",
        "model = Sequential()\n",
        "model.add(Dense(512, input_shape=(28*28,), activation = 'relu'))\n",
        "model.add(Dense(1, activation = 'softmax'))\n",
        "model.summary()"
      ],
      "metadata": {
        "colab": {
          "base_uri": "https://localhost:8080/"
        },
        "id": "DjpZgBvPETbU",
        "outputId": "8620faa6-1d2b-4b61-856e-400d8180b9f3"
      },
      "execution_count": 6,
      "outputs": [
        {
          "output_type": "stream",
          "name": "stdout",
          "text": [
            "Model: \"sequential\"\n",
            "_________________________________________________________________\n",
            " Layer (type)                Output Shape              Param #   \n",
            "=================================================================\n",
            " dense (Dense)               (None, 512)               401920    \n",
            "                                                                 \n",
            " dense_1 (Dense)             (None, 1)                 513       \n",
            "                                                                 \n",
            "=================================================================\n",
            "Total params: 402,433\n",
            "Trainable params: 402,433\n",
            "Non-trainable params: 0\n",
            "_________________________________________________________________\n"
          ]
        }
      ]
    },
    {
      "cell_type": "code",
      "source": [
        "x = test_images\n",
        "y = test_images"
      ],
      "metadata": {
        "id": "OwXlbbcglxKn"
      },
      "execution_count": 10,
      "outputs": []
    },
    {
      "cell_type": "code",
      "source": [
        "from keras.utils import to_categorical #lenh chuyen 2 chieu thanh 1 chieu \n",
        "\n",
        "train_images = train_images.reshape((60000, 28*28))\n",
        "train_image = train_images.astype('float32')/255\n",
        "\n",
        "test_images = test_images.reshape((10000, 28*28))\n",
        "test_image = test_images.astype('float32')/255\n",
        "\n",
        "train_label = to_categorical(train_labels, 10)\n",
        "test_label = to_categorical(test_labels, 10)"
      ],
      "metadata": {
        "id": "T83vS0xQEXVh"
      },
      "execution_count": 8,
      "outputs": []
    },
    {
      "cell_type": "code",
      "source": [
        "#compile\n",
        "model.compile(optimizer = 'rmsprop', loss = 'categorical_crossentropy', metrics = 'accuracy') #bộ tối ưu 'rmsprop', mất mát 'categorical_crossentropy'\n",
        "\n",
        "#train\n",
        "model.fit(train_images, train_labels, epochs = 10, batch_size = 128) #lô học chỉ là 128 dữ liệu thôi (không học 60000 dữ liệu), học 10 lần -> mỗi lần học 128\n",
        "#đánh giá độ chính xác\n",
        "test_loss, test_acc = model.evaluate(test_images, test_labels)\n",
        "\n",
        "print('test_accuracy: ', test_acc)\n",
        "print('test_loss: ', test_loss)\n"
      ],
      "metadata": {
        "colab": {
          "base_uri": "https://localhost:8080/"
        },
        "id": "r-BFoUOtEZu4",
        "outputId": "66c1062b-aad4-48d9-e538-1104c1e6d38f"
      },
      "execution_count": 13,
      "outputs": [
        {
          "output_type": "stream",
          "name": "stdout",
          "text": [
            "Epoch 1/10\n",
            "469/469 [==============================] - 4s 8ms/step - loss: 0.0000e+00 - accuracy: 0.1124\n",
            "Epoch 2/10\n",
            "469/469 [==============================] - 3s 7ms/step - loss: 0.0000e+00 - accuracy: 0.1124\n",
            "Epoch 3/10\n",
            "469/469 [==============================] - 4s 9ms/step - loss: 0.0000e+00 - accuracy: 0.1124\n",
            "Epoch 4/10\n",
            "469/469 [==============================] - 5s 10ms/step - loss: 0.0000e+00 - accuracy: 0.1124\n",
            "Epoch 5/10\n",
            "469/469 [==============================] - 4s 8ms/step - loss: 0.0000e+00 - accuracy: 0.1124\n",
            "Epoch 6/10\n",
            "469/469 [==============================] - 4s 8ms/step - loss: 0.0000e+00 - accuracy: 0.1124\n",
            "Epoch 7/10\n",
            "469/469 [==============================] - 3s 7ms/step - loss: 0.0000e+00 - accuracy: 0.1124\n",
            "Epoch 8/10\n",
            "469/469 [==============================] - 3s 7ms/step - loss: 0.0000e+00 - accuracy: 0.1124\n",
            "Epoch 9/10\n",
            "469/469 [==============================] - 6s 12ms/step - loss: 0.0000e+00 - accuracy: 0.1124\n",
            "Epoch 10/10\n",
            "469/469 [==============================] - 3s 7ms/step - loss: 0.0000e+00 - accuracy: 0.1124\n",
            "313/313 [==============================] - 1s 2ms/step - loss: 0.0000e+00 - accuracy: 0.1135\n",
            "test_accuracy:  0.11349999904632568\n",
            "test_loss:  0.0\n"
          ]
        }
      ]
    }
  ]
}